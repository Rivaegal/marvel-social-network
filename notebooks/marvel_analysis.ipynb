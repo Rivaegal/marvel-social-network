{
 "cells": [
  {
   "cell_type": "markdown",
   "id": "3144dd63",
   "metadata": {},
   "source": [
    "# Marvel Social Network  \n",
    "\n",
    "This project explores the Marvel Universe as a social network.  \n",
    "Characters are represented as nodes, and their co-appearances in comics form the edges.  \n",
    "\n",
    "The analysis applies network science techniques to study connectivity,  \n",
    "identify central characters, and detect community structures among heroes.  "
   ]
  },
  {
   "cell_type": "code",
   "execution_count": 18,
   "id": "5fb74a76",
   "metadata": {},
   "outputs": [],
   "source": [
    "import pandas as pd\n",
    "import networkx as nx"
   ]
  },
  {
   "cell_type": "markdown",
   "id": "85350963",
   "metadata": {},
   "source": [
    "## Load dataset\n",
    "\n",
    "The dataset includes two files:  \n",
    "- `edges.csv` -> links heroes to the comics they appear in  \n",
    "- `nodes.csv` -> lists each entity as either a hero or a comic  \n",
    "\n",
    "Below is a preview of the first few rows to confirm structure.  "
   ]
  },
  {
   "cell_type": "code",
   "execution_count": 19,
   "id": "1a972463",
   "metadata": {},
   "outputs": [
    {
     "data": {
      "text/html": [
       "<div>\n",
       "<style scoped>\n",
       "    .dataframe tbody tr th:only-of-type {\n",
       "        vertical-align: middle;\n",
       "    }\n",
       "\n",
       "    .dataframe tbody tr th {\n",
       "        vertical-align: top;\n",
       "    }\n",
       "\n",
       "    .dataframe thead th {\n",
       "        text-align: right;\n",
       "    }\n",
       "</style>\n",
       "<table border=\"1\" class=\"dataframe\">\n",
       "  <thead>\n",
       "    <tr style=\"text-align: right;\">\n",
       "      <th></th>\n",
       "      <th>hero</th>\n",
       "      <th>comic</th>\n",
       "    </tr>\n",
       "  </thead>\n",
       "  <tbody>\n",
       "    <tr>\n",
       "      <th>0</th>\n",
       "      <td>24-HOUR MAN/EMMANUEL</td>\n",
       "      <td>AA2 35</td>\n",
       "    </tr>\n",
       "    <tr>\n",
       "      <th>1</th>\n",
       "      <td>3-D MAN/CHARLES CHAN</td>\n",
       "      <td>AVF 4</td>\n",
       "    </tr>\n",
       "    <tr>\n",
       "      <th>2</th>\n",
       "      <td>3-D MAN/CHARLES CHAN</td>\n",
       "      <td>AVF 5</td>\n",
       "    </tr>\n",
       "    <tr>\n",
       "      <th>3</th>\n",
       "      <td>3-D MAN/CHARLES CHAN</td>\n",
       "      <td>COC 1</td>\n",
       "    </tr>\n",
       "    <tr>\n",
       "      <th>4</th>\n",
       "      <td>3-D MAN/CHARLES CHAN</td>\n",
       "      <td>H2 251</td>\n",
       "    </tr>\n",
       "  </tbody>\n",
       "</table>\n",
       "</div>"
      ],
      "text/plain": [
       "                   hero   comic\n",
       "0  24-HOUR MAN/EMMANUEL  AA2 35\n",
       "1  3-D MAN/CHARLES CHAN   AVF 4\n",
       "2  3-D MAN/CHARLES CHAN   AVF 5\n",
       "3  3-D MAN/CHARLES CHAN   COC 1\n",
       "4  3-D MAN/CHARLES CHAN  H2 251"
      ]
     },
     "metadata": {},
     "output_type": "display_data"
    },
    {
     "data": {
      "text/html": [
       "<div>\n",
       "<style scoped>\n",
       "    .dataframe tbody tr th:only-of-type {\n",
       "        vertical-align: middle;\n",
       "    }\n",
       "\n",
       "    .dataframe tbody tr th {\n",
       "        vertical-align: top;\n",
       "    }\n",
       "\n",
       "    .dataframe thead th {\n",
       "        text-align: right;\n",
       "    }\n",
       "</style>\n",
       "<table border=\"1\" class=\"dataframe\">\n",
       "  <thead>\n",
       "    <tr style=\"text-align: right;\">\n",
       "      <th></th>\n",
       "      <th>node</th>\n",
       "      <th>type</th>\n",
       "    </tr>\n",
       "  </thead>\n",
       "  <tbody>\n",
       "    <tr>\n",
       "      <th>0</th>\n",
       "      <td>2001 10</td>\n",
       "      <td>comic</td>\n",
       "    </tr>\n",
       "    <tr>\n",
       "      <th>1</th>\n",
       "      <td>2001 8</td>\n",
       "      <td>comic</td>\n",
       "    </tr>\n",
       "    <tr>\n",
       "      <th>2</th>\n",
       "      <td>2001 9</td>\n",
       "      <td>comic</td>\n",
       "    </tr>\n",
       "    <tr>\n",
       "      <th>3</th>\n",
       "      <td>24-HOUR MAN/EMMANUEL</td>\n",
       "      <td>hero</td>\n",
       "    </tr>\n",
       "    <tr>\n",
       "      <th>4</th>\n",
       "      <td>3-D MAN/CHARLES CHAN</td>\n",
       "      <td>hero</td>\n",
       "    </tr>\n",
       "  </tbody>\n",
       "</table>\n",
       "</div>"
      ],
      "text/plain": [
       "                   node   type\n",
       "0               2001 10  comic\n",
       "1                2001 8  comic\n",
       "2                2001 9  comic\n",
       "3  24-HOUR MAN/EMMANUEL   hero\n",
       "4  3-D MAN/CHARLES CHAN   hero"
      ]
     },
     "metadata": {},
     "output_type": "display_data"
    }
   ],
   "source": [
    "# Load raw CSVs\n",
    "edges = pd.read_csv(\"../data/edges.csv\")\n",
    "nodes = pd.read_csv(\"../data/nodes.csv\")\n",
    "\n",
    "# Preview data\n",
    "display(edges.head())\n",
    "display(nodes.head())"
   ]
  },
  {
   "cell_type": "markdown",
   "id": "e6d07317",
   "metadata": {},
   "source": [
    "## Build bipartite graph -> project to hero–hero network\n",
    "\n",
    "The dataset links heroes to the comics they appear in.  \n",
    "To explore how characters are connected, I first build a bipartite graph (heroes <-> comics).  \n",
    "This is then projected into a hero–hero network, where edge weights reflect the number of shared comic appearances.  "
   ]
  },
  {
   "cell_type": "code",
   "execution_count": 20,
   "id": "06730d77",
   "metadata": {},
   "outputs": [
    {
     "name": "stdout",
     "output_type": "stream",
     "text": [
      "Edges columns: ['hero', 'comic']\n",
      "Nodes columns: ['node', 'type']\n",
      "Bipartite graph: 19,091 nodes, 96,104 edges\n",
      "#heroes=6,439, #comics=12,651\n",
      "Hero graph: 6,440 nodes, 171,644 edges\n"
     ]
    },
    {
     "data": {
      "text/plain": [
       "[('CADUCEUS', 'GENII/JASON KIMBALL', {'weight': 8}),\n",
       " ('CADUCEUS', 'VALKIN', {'weight': 1}),\n",
       " ('CADUCEUS', 'HARGEN', {'weight': 1}),\n",
       " ('CADUCEUS', 'THOR/DR. DONALD BLAK', {'weight': 1}),\n",
       " ('CADUCEUS', 'JUNIPER', {'weight': 2})]"
      ]
     },
     "execution_count": 20,
     "metadata": {},
     "output_type": "execute_result"
    }
   ],
   "source": [
    "# Expected schema:\n",
    "#  - edges: hero, comic\n",
    "#  - nodes: node, type in {hero, comic}\n",
    "\n",
    "# Check columns for sanity\n",
    "print(\"Edges columns:\", list(edges.columns))\n",
    "print(\"Nodes columns:\", list(nodes.columns))\n",
    "\n",
    "# Build bipartite graph (heroes <-> comics)\n",
    "B = nx.Graph()\n",
    "\n",
    "heroes = set(nodes.loc[nodes[\"type\"].str.lower() == \"hero\", \"node\"])\n",
    "comics = set(nodes.loc[nodes[\"type\"].str.lower() == \"comic\", \"node\"])\n",
    "\n",
    "B.add_nodes_from(heroes, bipartite=\"hero\")\n",
    "B.add_nodes_from(comics, bipartite=\"comic\")\n",
    "B.add_edges_from(edges.apply(lambda r: (r[\"hero\"], r[\"comic\"]), axis=1))\n",
    "\n",
    "print(f\"Bipartite graph: {B.number_of_nodes():,} nodes, {B.number_of_edges():,} edges\")\n",
    "print(f\"#heroes={len(heroes):,}, #comics={len(comics):,}\")\n",
    "\n",
    "# Projected hero–hero network (edges weighted by number of shared comics)\n",
    "G = nx.algorithms.bipartite.weighted_projected_graph(B, heroes)\n",
    "\n",
    "print(f\"Hero graph: {G.number_of_nodes():,} nodes, {G.number_of_edges():,} edges\")\n",
    "\n",
    "# Sample edges with weights\n",
    "list(G.edges(data=True))[:5]"
   ]
  }
 ],
 "metadata": {
  "kernelspec": {
   "display_name": ".venv",
   "language": "python",
   "name": "python3"
  },
  "language_info": {
   "codemirror_mode": {
    "name": "ipython",
    "version": 3
   },
   "file_extension": ".py",
   "mimetype": "text/x-python",
   "name": "python",
   "nbconvert_exporter": "python",
   "pygments_lexer": "ipython3",
   "version": "3.9.6"
  }
 },
 "nbformat": 4,
 "nbformat_minor": 5
}
